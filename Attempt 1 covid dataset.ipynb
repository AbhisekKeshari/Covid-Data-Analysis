{
 "cells": [
  {
   "cell_type": "code",
   "execution_count": 1,
   "metadata": {},
   "outputs": [],
   "source": [
    "import pandas as pd\n",
    "import numpy as np\n",
    "import matplotlib.pyplot as plt\n",
    "\n",
    "%matplotlib inline\n"
   ]
  },
  {
   "cell_type": "code",
   "execution_count": 2,
   "metadata": {},
   "outputs": [],
   "source": [
    "df = pd.read_csv(\"data_covid.csv\")"
   ]
  },
  {
   "cell_type": "code",
   "execution_count": 3,
   "metadata": {},
   "outputs": [
    {
     "data": {
      "text/html": [
       "<div>\n",
       "<style scoped>\n",
       "    .dataframe tbody tr th:only-of-type {\n",
       "        vertical-align: middle;\n",
       "    }\n",
       "\n",
       "    .dataframe tbody tr th {\n",
       "        vertical-align: top;\n",
       "    }\n",
       "\n",
       "    .dataframe thead th {\n",
       "        text-align: right;\n",
       "    }\n",
       "</style>\n",
       "<table border=\"1\" class=\"dataframe\">\n",
       "  <thead>\n",
       "    <tr style=\"text-align: right;\">\n",
       "      <th></th>\n",
       "      <th>iso_code</th>\n",
       "      <th>continent</th>\n",
       "      <th>location</th>\n",
       "      <th>date</th>\n",
       "      <th>total_cases</th>\n",
       "      <th>new_cases</th>\n",
       "      <th>new_cases_smoothed</th>\n",
       "      <th>total_deaths</th>\n",
       "      <th>new_deaths</th>\n",
       "      <th>new_deaths_smoothed</th>\n",
       "      <th>...</th>\n",
       "      <th>aged_70_older</th>\n",
       "      <th>gdp_per_capita</th>\n",
       "      <th>extreme_poverty</th>\n",
       "      <th>cardiovasc_death_rate</th>\n",
       "      <th>diabetes_prevalence</th>\n",
       "      <th>female_smokers</th>\n",
       "      <th>male_smokers</th>\n",
       "      <th>handwashing_facilities</th>\n",
       "      <th>hospital_beds_per_thousand</th>\n",
       "      <th>life_expectancy</th>\n",
       "    </tr>\n",
       "  </thead>\n",
       "  <tbody>\n",
       "    <tr>\n",
       "      <th>0</th>\n",
       "      <td>ABW</td>\n",
       "      <td>North America</td>\n",
       "      <td>Aruba</td>\n",
       "      <td>2020-03-13</td>\n",
       "      <td>2.0</td>\n",
       "      <td>2.0</td>\n",
       "      <td>NaN</td>\n",
       "      <td>0.0</td>\n",
       "      <td>0.0</td>\n",
       "      <td>NaN</td>\n",
       "      <td>...</td>\n",
       "      <td>7.452</td>\n",
       "      <td>35973.781</td>\n",
       "      <td>NaN</td>\n",
       "      <td>NaN</td>\n",
       "      <td>11.62</td>\n",
       "      <td>NaN</td>\n",
       "      <td>NaN</td>\n",
       "      <td>NaN</td>\n",
       "      <td>NaN</td>\n",
       "      <td>76.29</td>\n",
       "    </tr>\n",
       "    <tr>\n",
       "      <th>1</th>\n",
       "      <td>ABW</td>\n",
       "      <td>North America</td>\n",
       "      <td>Aruba</td>\n",
       "      <td>2020-03-19</td>\n",
       "      <td>NaN</td>\n",
       "      <td>NaN</td>\n",
       "      <td>0.286</td>\n",
       "      <td>NaN</td>\n",
       "      <td>NaN</td>\n",
       "      <td>0.0</td>\n",
       "      <td>...</td>\n",
       "      <td>7.452</td>\n",
       "      <td>35973.781</td>\n",
       "      <td>NaN</td>\n",
       "      <td>NaN</td>\n",
       "      <td>11.62</td>\n",
       "      <td>NaN</td>\n",
       "      <td>NaN</td>\n",
       "      <td>NaN</td>\n",
       "      <td>NaN</td>\n",
       "      <td>76.29</td>\n",
       "    </tr>\n",
       "    <tr>\n",
       "      <th>2</th>\n",
       "      <td>ABW</td>\n",
       "      <td>North America</td>\n",
       "      <td>Aruba</td>\n",
       "      <td>2020-03-20</td>\n",
       "      <td>4.0</td>\n",
       "      <td>2.0</td>\n",
       "      <td>0.286</td>\n",
       "      <td>0.0</td>\n",
       "      <td>0.0</td>\n",
       "      <td>0.0</td>\n",
       "      <td>...</td>\n",
       "      <td>7.452</td>\n",
       "      <td>35973.781</td>\n",
       "      <td>NaN</td>\n",
       "      <td>NaN</td>\n",
       "      <td>11.62</td>\n",
       "      <td>NaN</td>\n",
       "      <td>NaN</td>\n",
       "      <td>NaN</td>\n",
       "      <td>NaN</td>\n",
       "      <td>76.29</td>\n",
       "    </tr>\n",
       "    <tr>\n",
       "      <th>3</th>\n",
       "      <td>ABW</td>\n",
       "      <td>North America</td>\n",
       "      <td>Aruba</td>\n",
       "      <td>2020-03-21</td>\n",
       "      <td>NaN</td>\n",
       "      <td>NaN</td>\n",
       "      <td>0.286</td>\n",
       "      <td>NaN</td>\n",
       "      <td>NaN</td>\n",
       "      <td>0.0</td>\n",
       "      <td>...</td>\n",
       "      <td>7.452</td>\n",
       "      <td>35973.781</td>\n",
       "      <td>NaN</td>\n",
       "      <td>NaN</td>\n",
       "      <td>11.62</td>\n",
       "      <td>NaN</td>\n",
       "      <td>NaN</td>\n",
       "      <td>NaN</td>\n",
       "      <td>NaN</td>\n",
       "      <td>76.29</td>\n",
       "    </tr>\n",
       "    <tr>\n",
       "      <th>4</th>\n",
       "      <td>ABW</td>\n",
       "      <td>North America</td>\n",
       "      <td>Aruba</td>\n",
       "      <td>2020-03-22</td>\n",
       "      <td>NaN</td>\n",
       "      <td>NaN</td>\n",
       "      <td>0.286</td>\n",
       "      <td>NaN</td>\n",
       "      <td>NaN</td>\n",
       "      <td>0.0</td>\n",
       "      <td>...</td>\n",
       "      <td>7.452</td>\n",
       "      <td>35973.781</td>\n",
       "      <td>NaN</td>\n",
       "      <td>NaN</td>\n",
       "      <td>11.62</td>\n",
       "      <td>NaN</td>\n",
       "      <td>NaN</td>\n",
       "      <td>NaN</td>\n",
       "      <td>NaN</td>\n",
       "      <td>76.29</td>\n",
       "    </tr>\n",
       "  </tbody>\n",
       "</table>\n",
       "<p>5 rows × 40 columns</p>\n",
       "</div>"
      ],
      "text/plain": [
       "  iso_code      continent location        date  total_cases  new_cases  \\\n",
       "0      ABW  North America    Aruba  2020-03-13          2.0        2.0   \n",
       "1      ABW  North America    Aruba  2020-03-19          NaN        NaN   \n",
       "2      ABW  North America    Aruba  2020-03-20          4.0        2.0   \n",
       "3      ABW  North America    Aruba  2020-03-21          NaN        NaN   \n",
       "4      ABW  North America    Aruba  2020-03-22          NaN        NaN   \n",
       "\n",
       "   new_cases_smoothed  total_deaths  new_deaths  new_deaths_smoothed  ...  \\\n",
       "0                 NaN           0.0         0.0                  NaN  ...   \n",
       "1               0.286           NaN         NaN                  0.0  ...   \n",
       "2               0.286           0.0         0.0                  0.0  ...   \n",
       "3               0.286           NaN         NaN                  0.0  ...   \n",
       "4               0.286           NaN         NaN                  0.0  ...   \n",
       "\n",
       "   aged_70_older  gdp_per_capita  extreme_poverty  cardiovasc_death_rate  \\\n",
       "0          7.452       35973.781              NaN                    NaN   \n",
       "1          7.452       35973.781              NaN                    NaN   \n",
       "2          7.452       35973.781              NaN                    NaN   \n",
       "3          7.452       35973.781              NaN                    NaN   \n",
       "4          7.452       35973.781              NaN                    NaN   \n",
       "\n",
       "   diabetes_prevalence  female_smokers  male_smokers  handwashing_facilities  \\\n",
       "0                11.62             NaN           NaN                     NaN   \n",
       "1                11.62             NaN           NaN                     NaN   \n",
       "2                11.62             NaN           NaN                     NaN   \n",
       "3                11.62             NaN           NaN                     NaN   \n",
       "4                11.62             NaN           NaN                     NaN   \n",
       "\n",
       "   hospital_beds_per_thousand  life_expectancy  \n",
       "0                         NaN            76.29  \n",
       "1                         NaN            76.29  \n",
       "2                         NaN            76.29  \n",
       "3                         NaN            76.29  \n",
       "4                         NaN            76.29  \n",
       "\n",
       "[5 rows x 40 columns]"
      ]
     },
     "execution_count": 3,
     "metadata": {},
     "output_type": "execute_result"
    }
   ],
   "source": [
    "df.head()"
   ]
  },
  {
   "cell_type": "code",
   "execution_count": 4,
   "metadata": {},
   "outputs": [
    {
     "data": {
      "text/html": [
       "<div>\n",
       "<style scoped>\n",
       "    .dataframe tbody tr th:only-of-type {\n",
       "        vertical-align: middle;\n",
       "    }\n",
       "\n",
       "    .dataframe tbody tr th {\n",
       "        vertical-align: top;\n",
       "    }\n",
       "\n",
       "    .dataframe thead th {\n",
       "        text-align: right;\n",
       "    }\n",
       "</style>\n",
       "<table border=\"1\" class=\"dataframe\">\n",
       "  <thead>\n",
       "    <tr style=\"text-align: right;\">\n",
       "      <th></th>\n",
       "      <th>total_cases</th>\n",
       "      <th>new_cases</th>\n",
       "      <th>new_cases_smoothed</th>\n",
       "      <th>total_deaths</th>\n",
       "      <th>new_deaths</th>\n",
       "      <th>new_deaths_smoothed</th>\n",
       "      <th>total_cases_per_million</th>\n",
       "      <th>new_cases_per_million</th>\n",
       "      <th>new_cases_smoothed_per_million</th>\n",
       "      <th>total_deaths_per_million</th>\n",
       "      <th>...</th>\n",
       "      <th>aged_70_older</th>\n",
       "      <th>gdp_per_capita</th>\n",
       "      <th>extreme_poverty</th>\n",
       "      <th>cardiovasc_death_rate</th>\n",
       "      <th>diabetes_prevalence</th>\n",
       "      <th>female_smokers</th>\n",
       "      <th>male_smokers</th>\n",
       "      <th>handwashing_facilities</th>\n",
       "      <th>hospital_beds_per_thousand</th>\n",
       "      <th>life_expectancy</th>\n",
       "    </tr>\n",
       "  </thead>\n",
       "  <tbody>\n",
       "    <tr>\n",
       "      <th>count</th>\n",
       "      <td>4.101700e+04</td>\n",
       "      <td>40832.000000</td>\n",
       "      <td>40050.000000</td>\n",
       "      <td>41017.000000</td>\n",
       "      <td>40832.000000</td>\n",
       "      <td>40050.000000</td>\n",
       "      <td>40768.000000</td>\n",
       "      <td>40768.000000</td>\n",
       "      <td>39985.000000</td>\n",
       "      <td>40768.000000</td>\n",
       "      <td>...</td>\n",
       "      <td>36942.000000</td>\n",
       "      <td>36669.000000</td>\n",
       "      <td>24487.000000</td>\n",
       "      <td>37147.000000</td>\n",
       "      <td>38443.000000</td>\n",
       "      <td>29234.000000</td>\n",
       "      <td>28869.000000</td>\n",
       "      <td>17273.000000</td>\n",
       "      <td>33634.000000</td>\n",
       "      <td>40830.000000</td>\n",
       "    </tr>\n",
       "    <tr>\n",
       "      <th>mean</th>\n",
       "      <td>8.009179e+04</td>\n",
       "      <td>1289.953223</td>\n",
       "      <td>1275.180432</td>\n",
       "      <td>3516.050052</td>\n",
       "      <td>42.574892</td>\n",
       "      <td>42.580165</td>\n",
       "      <td>1560.675821</td>\n",
       "      <td>21.881736</td>\n",
       "      <td>21.555024</td>\n",
       "      <td>50.885221</td>\n",
       "      <td>...</td>\n",
       "      <td>5.899399</td>\n",
       "      <td>21111.724839</td>\n",
       "      <td>11.882276</td>\n",
       "      <td>250.945360</td>\n",
       "      <td>8.045957</td>\n",
       "      <td>10.866801</td>\n",
       "      <td>32.639486</td>\n",
       "      <td>52.766899</td>\n",
       "      <td>3.123081</td>\n",
       "      <td>74.099070</td>\n",
       "    </tr>\n",
       "    <tr>\n",
       "      <th>std</th>\n",
       "      <td>8.294860e+05</td>\n",
       "      <td>11820.448234</td>\n",
       "      <td>11603.523688</td>\n",
       "      <td>32933.456938</td>\n",
       "      <td>362.518367</td>\n",
       "      <td>352.612193</td>\n",
       "      <td>3449.777105</td>\n",
       "      <td>69.711744</td>\n",
       "      <td>52.976045</td>\n",
       "      <td>135.267976</td>\n",
       "      <td>...</td>\n",
       "      <td>4.329820</td>\n",
       "      <td>20530.928588</td>\n",
       "      <td>19.040777</td>\n",
       "      <td>117.768862</td>\n",
       "      <td>4.135962</td>\n",
       "      <td>10.487131</td>\n",
       "      <td>13.395252</td>\n",
       "      <td>31.541156</td>\n",
       "      <td>2.537061</td>\n",
       "      <td>7.354087</td>\n",
       "    </tr>\n",
       "    <tr>\n",
       "      <th>min</th>\n",
       "      <td>0.000000e+00</td>\n",
       "      <td>-2461.000000</td>\n",
       "      <td>-338.857000</td>\n",
       "      <td>0.000000</td>\n",
       "      <td>-1918.000000</td>\n",
       "      <td>-232.143000</td>\n",
       "      <td>0.000000</td>\n",
       "      <td>-2212.545000</td>\n",
       "      <td>-269.978000</td>\n",
       "      <td>0.000000</td>\n",
       "      <td>...</td>\n",
       "      <td>0.526000</td>\n",
       "      <td>661.240000</td>\n",
       "      <td>0.100000</td>\n",
       "      <td>79.370000</td>\n",
       "      <td>0.990000</td>\n",
       "      <td>0.100000</td>\n",
       "      <td>7.700000</td>\n",
       "      <td>1.188000</td>\n",
       "      <td>0.100000</td>\n",
       "      <td>53.280000</td>\n",
       "    </tr>\n",
       "    <tr>\n",
       "      <th>25%</th>\n",
       "      <td>3.900000e+01</td>\n",
       "      <td>0.000000</td>\n",
       "      <td>0.429000</td>\n",
       "      <td>0.000000</td>\n",
       "      <td>0.000000</td>\n",
       "      <td>0.000000</td>\n",
       "      <td>18.936000</td>\n",
       "      <td>0.000000</td>\n",
       "      <td>0.096000</td>\n",
       "      <td>0.000000</td>\n",
       "      <td>...</td>\n",
       "      <td>2.142000</td>\n",
       "      <td>5591.597000</td>\n",
       "      <td>0.500000</td>\n",
       "      <td>153.507000</td>\n",
       "      <td>5.310000</td>\n",
       "      <td>1.900000</td>\n",
       "      <td>21.400000</td>\n",
       "      <td>21.222000</td>\n",
       "      <td>1.300000</td>\n",
       "      <td>69.910000</td>\n",
       "    </tr>\n",
       "    <tr>\n",
       "      <th>50%</th>\n",
       "      <td>7.800000e+02</td>\n",
       "      <td>8.000000</td>\n",
       "      <td>12.571000</td>\n",
       "      <td>13.000000</td>\n",
       "      <td>0.000000</td>\n",
       "      <td>0.143000</td>\n",
       "      <td>240.800500</td>\n",
       "      <td>1.269000</td>\n",
       "      <td>2.573000</td>\n",
       "      <td>3.882500</td>\n",
       "      <td>...</td>\n",
       "      <td>4.419000</td>\n",
       "      <td>14103.452000</td>\n",
       "      <td>1.800000</td>\n",
       "      <td>237.372000</td>\n",
       "      <td>7.110000</td>\n",
       "      <td>6.434000</td>\n",
       "      <td>31.400000</td>\n",
       "      <td>55.182000</td>\n",
       "      <td>2.500000</td>\n",
       "      <td>75.490000</td>\n",
       "    </tr>\n",
       "    <tr>\n",
       "      <th>75%</th>\n",
       "      <td>8.481000e+03</td>\n",
       "      <td>142.000000</td>\n",
       "      <td>146.571000</td>\n",
       "      <td>178.000000</td>\n",
       "      <td>3.000000</td>\n",
       "      <td>2.857000</td>\n",
       "      <td>1515.576000</td>\n",
       "      <td>14.652000</td>\n",
       "      <td>16.176000</td>\n",
       "      <td>29.624000</td>\n",
       "      <td>...</td>\n",
       "      <td>9.719000</td>\n",
       "      <td>32415.132000</td>\n",
       "      <td>15.000000</td>\n",
       "      <td>318.949000</td>\n",
       "      <td>10.180000</td>\n",
       "      <td>19.600000</td>\n",
       "      <td>40.900000</td>\n",
       "      <td>83.741000</td>\n",
       "      <td>4.200000</td>\n",
       "      <td>79.930000</td>\n",
       "    </tr>\n",
       "    <tr>\n",
       "      <th>max</th>\n",
       "      <td>2.633568e+07</td>\n",
       "      <td>298107.000000</td>\n",
       "      <td>266780.286000</td>\n",
       "      <td>869209.000000</td>\n",
       "      <td>10491.000000</td>\n",
       "      <td>7456.571000</td>\n",
       "      <td>41450.022000</td>\n",
       "      <td>4944.376000</td>\n",
       "      <td>882.924000</td>\n",
       "      <td>1237.551000</td>\n",
       "      <td>...</td>\n",
       "      <td>18.493000</td>\n",
       "      <td>116935.600000</td>\n",
       "      <td>77.600000</td>\n",
       "      <td>724.417000</td>\n",
       "      <td>23.360000</td>\n",
       "      <td>44.000000</td>\n",
       "      <td>78.100000</td>\n",
       "      <td>98.999000</td>\n",
       "      <td>13.800000</td>\n",
       "      <td>86.750000</td>\n",
       "    </tr>\n",
       "  </tbody>\n",
       "</table>\n",
       "<p>8 rows × 35 columns</p>\n",
       "</div>"
      ],
      "text/plain": [
       "        total_cases      new_cases  new_cases_smoothed   total_deaths  \\\n",
       "count  4.101700e+04   40832.000000        40050.000000   41017.000000   \n",
       "mean   8.009179e+04    1289.953223         1275.180432    3516.050052   \n",
       "std    8.294860e+05   11820.448234        11603.523688   32933.456938   \n",
       "min    0.000000e+00   -2461.000000         -338.857000       0.000000   \n",
       "25%    3.900000e+01       0.000000            0.429000       0.000000   \n",
       "50%    7.800000e+02       8.000000           12.571000      13.000000   \n",
       "75%    8.481000e+03     142.000000          146.571000     178.000000   \n",
       "max    2.633568e+07  298107.000000       266780.286000  869209.000000   \n",
       "\n",
       "         new_deaths  new_deaths_smoothed  total_cases_per_million  \\\n",
       "count  40832.000000         40050.000000             40768.000000   \n",
       "mean      42.574892            42.580165              1560.675821   \n",
       "std      362.518367           352.612193              3449.777105   \n",
       "min    -1918.000000          -232.143000                 0.000000   \n",
       "25%        0.000000             0.000000                18.936000   \n",
       "50%        0.000000             0.143000               240.800500   \n",
       "75%        3.000000             2.857000              1515.576000   \n",
       "max    10491.000000          7456.571000             41450.022000   \n",
       "\n",
       "       new_cases_per_million  new_cases_smoothed_per_million  \\\n",
       "count           40768.000000                    39985.000000   \n",
       "mean               21.881736                       21.555024   \n",
       "std                69.711744                       52.976045   \n",
       "min             -2212.545000                     -269.978000   \n",
       "25%                 0.000000                        0.096000   \n",
       "50%                 1.269000                        2.573000   \n",
       "75%                14.652000                       16.176000   \n",
       "max              4944.376000                      882.924000   \n",
       "\n",
       "       total_deaths_per_million  ...  aged_70_older  gdp_per_capita  \\\n",
       "count              40768.000000  ...   36942.000000    36669.000000   \n",
       "mean                  50.885221  ...       5.899399    21111.724839   \n",
       "std                  135.267976  ...       4.329820    20530.928588   \n",
       "min                    0.000000  ...       0.526000      661.240000   \n",
       "25%                    0.000000  ...       2.142000     5591.597000   \n",
       "50%                    3.882500  ...       4.419000    14103.452000   \n",
       "75%                   29.624000  ...       9.719000    32415.132000   \n",
       "max                 1237.551000  ...      18.493000   116935.600000   \n",
       "\n",
       "       extreme_poverty  cardiovasc_death_rate  diabetes_prevalence  \\\n",
       "count     24487.000000           37147.000000         38443.000000   \n",
       "mean         11.882276             250.945360             8.045957   \n",
       "std          19.040777             117.768862             4.135962   \n",
       "min           0.100000              79.370000             0.990000   \n",
       "25%           0.500000             153.507000             5.310000   \n",
       "50%           1.800000             237.372000             7.110000   \n",
       "75%          15.000000             318.949000            10.180000   \n",
       "max          77.600000             724.417000            23.360000   \n",
       "\n",
       "       female_smokers  male_smokers  handwashing_facilities  \\\n",
       "count    29234.000000  28869.000000            17273.000000   \n",
       "mean        10.866801     32.639486               52.766899   \n",
       "std         10.487131     13.395252               31.541156   \n",
       "min          0.100000      7.700000                1.188000   \n",
       "25%          1.900000     21.400000               21.222000   \n",
       "50%          6.434000     31.400000               55.182000   \n",
       "75%         19.600000     40.900000               83.741000   \n",
       "max         44.000000     78.100000               98.999000   \n",
       "\n",
       "       hospital_beds_per_thousand  life_expectancy  \n",
       "count                33634.000000     40830.000000  \n",
       "mean                     3.123081        74.099070  \n",
       "std                      2.537061         7.354087  \n",
       "min                      0.100000        53.280000  \n",
       "25%                      1.300000        69.910000  \n",
       "50%                      2.500000        75.490000  \n",
       "75%                      4.200000        79.930000  \n",
       "max                     13.800000        86.750000  \n",
       "\n",
       "[8 rows x 35 columns]"
      ]
     },
     "execution_count": 4,
     "metadata": {},
     "output_type": "execute_result"
    }
   ],
   "source": [
    "df.describe()"
   ]
  },
  {
   "cell_type": "code",
   "execution_count": 5,
   "metadata": {},
   "outputs": [],
   "source": [
    "import seaborn as sns"
   ]
  },
  {
   "cell_type": "code",
   "execution_count": 6,
   "metadata": {},
   "outputs": [],
   "source": [
    "df1 = df.copy()"
   ]
  },
  {
   "cell_type": "code",
   "execution_count": 7,
   "metadata": {},
   "outputs": [],
   "source": [
    "df1 = df1.dropna(inplace = True)"
   ]
  },
  {
   "cell_type": "code",
   "execution_count": 8,
   "metadata": {},
   "outputs": [],
   "source": [
    "df1"
   ]
  },
  {
   "cell_type": "code",
   "execution_count": 9,
   "metadata": {},
   "outputs": [
    {
     "data": {
      "image/png": "[encoded data removed]",
      "text/plain": [
       "<Figure size 1152x576 with 1 Axes>"
      ]
     },
     "metadata": {
      "needs_background": "light"
     },
     "output_type": "display_data"
    }
   ],
   "source": [
    "null_counts = df.isnull().sum()/len(df)\n",
    "plt.figure(figsize=(16,8))\n",
    "plt.xticks(np.arange(len(null_counts)),null_counts.index,rotation='vertical')\n",
    "plt.ylabel('fraction of rows with missing data')\n",
    "vis1= sns.barplot(np.arange(len(null_counts)),null_counts,palette='cool')\n",
    "\n",
    "\n",
    "for p in vis1.patches:\n",
    "             vis1.annotate(\"%.2f\" % p.get_height(), (p.get_x() + p.get_width() / 2, p.get_height()),\n",
    "                 ha='left', va='top', fontsize=14, color='blue', xytext=(0, 20),\n",
    "                 textcoords='offset points')\n",
    "        #This annotation provides the fraction of missing data.\n",
    "        \n",
    "plt.show()\n"
   ]
  },
  {
   "cell_type": "code",
   "execution_count": null,
   "metadata": {},
   "outputs": [],
   "source": [
    "print(null_counts[null_counts<0.32])"
   ]
  },
  {
   "cell_type": "code",
   "execution_count": 10,
   "metadata": {},
   "outputs": [],
   "source": [
    "tag = null_counts[null_counts>0.32].to_dict()"
   ]
  },
  {
   "cell_type": "code",
   "execution_count": 11,
   "metadata": {},
   "outputs": [
    {
     "data": {
      "text/plain": [
       "dict_keys(['new_tests', 'total_tests', 'total_tests_per_thousand', 'new_tests_per_thousand', 'new_tests_smoothed', 'new_tests_smoothed_per_thousand', 'tests_per_case', 'positive_rate', 'tests_units', 'extreme_poverty', 'handwashing_facilities'])"
      ]
     },
     "execution_count": 11,
     "metadata": {},
     "output_type": "execute_result"
    }
   ],
   "source": [
    "tag.keys()"
   ]
  },
  {
   "cell_type": "code",
   "execution_count": 12,
   "metadata": {},
   "outputs": [],
   "source": [
    "columns = ['new_tests', 'total_tests',\n",
    "           'total_tests_per_thousand', 'new_tests_per_thousand', 'new_tests_smoothed', \n",
    "           'new_tests_smoothed_per_thousand', 'tests_per_case', 'positive_rate', \n",
    "           'tests_units', 'extreme_poverty', 'handwashing_facilities']"
   ]
  },
  {
   "cell_type": "code",
   "execution_count": 13,
   "metadata": {},
   "outputs": [],
   "source": [
    "\n",
    "df = df.drop(columns = columns)"
   ]
  },
  {
   "cell_type": "code",
   "execution_count": null,
   "metadata": {},
   "outputs": [],
   "source": [
    "df1"
   ]
  },
  {
   "cell_type": "code",
   "execution_count": null,
   "metadata": {},
   "outputs": [],
   "source": [
    "len(df1[\"location\"].unique())"
   ]
  },
  {
   "cell_type": "code",
   "execution_count": null,
   "metadata": {},
   "outputs": [],
   "source": [
    "df1.columns"
   ]
  },
  {
   "cell_type": "code",
   "execution_count": null,
   "metadata": {},
   "outputs": [],
   "source": [
    "list_ = [\"new_cases_smoothed\",\"new_deaths_smoothed\",\"new_cases_smoothed_per_million\",\n",
    "         \"new_deaths_smoothed_per_million\",\"new_tests_smoothed\",\"new_tests_smoothed_per_thousand\"\n",
    "         \"positive_rate\",\"stringency_index\",\n",
    "         \"population\",\n",
    "        \"population_density\",\n",
    "        \"median_age\",\n",
    "        \"aged_65_older\",\n",
    "        \"aged_70_older\",\n",
    "        \"gdp_per_capita\",\n",
    "        \"extreme_poverty\",\n",
    "        \"cardiovasc_death_rate\",\n",
    "        \"diabetes_prevalence\",\n",
    "        \"female_smokers\",\n",
    "        \"male_smokers\",\n",
    "        \"handwashing_facilities\",\n",
    "        \"hospital_beds_per_thousand\",\n",
    "        \"life_expectancy\"]"
   ]
  },
  {
   "cell_type": "code",
   "execution_count": null,
   "metadata": {},
   "outputs": [],
   "source": [
    "list_"
   ]
  },
  {
   "cell_type": "code",
   "execution_count": null,
   "metadata": {},
   "outputs": [],
   "source": [
    "list_"
   ]
  },
  {
   "cell_type": "code",
   "execution_count": 35,
   "metadata": {},
   "outputs": [
    {
     "data": {
      "text/plain": [
       "<matplotlib.axes._subplots.AxesSubplot at 0x2833e0e6c88>"
      ]
     },
     "execution_count": 35,
     "metadata": {},
     "output_type": "execute_result"
    },
    {
     "data": {
      "image/png": "[encoded data removed]",
      "text/plain": [
       "<Figure size 432x288 with 2 Axes>"
      ]
     },
     "metadata": {
      "needs_background": "light"
     },
     "output_type": "display_data"
    }
   ],
   "source": [
    "sns.heatmap(df.corr())"
   ]
  },
  {
   "cell_type": "code",
   "execution_count": null,
   "metadata": {},
   "outputs": [],
   "source": [
    "df[df[\"location\"] == \"Aruba\"].mean()"
   ]
  },
  {
   "cell_type": "code",
   "execution_count": null,
   "metadata": {},
   "outputs": [],
   "source": [
    "df"
   ]
  },
  {
   "cell_type": "code",
   "execution_count": 36,
   "metadata": {},
   "outputs": [],
   "source": [
    "from feature_selector import FeatureSelector\n",
    "\n",
    "import pandas as pd"
   ]
  },
  {
   "cell_type": "code",
   "execution_count": 61,
   "metadata": {},
   "outputs": [],
   "source": [
    "fs = FeatureSelector(data = df, labels = \"labels\")"
   ]
  },
  {
   "cell_type": "code",
   "execution_count": 62,
   "metadata": {},
   "outputs": [
    {
     "name": "stdout",
     "output_type": "stream",
     "text": [
      "0 features with greater than 0.60 missing values.\n",
      "\n"
     ]
    }
   ],
   "source": [
    "fs.identify_missing(missing_threshold=0.6)"
   ]
  },
  {
   "cell_type": "code",
   "execution_count": 63,
   "metadata": {},
   "outputs": [
    {
     "data": {
      "text/plain": [
       "[]"
      ]
     },
     "execution_count": 63,
     "metadata": {},
     "output_type": "execute_result"
    }
   ],
   "source": [
    "missing_features = fs.ops['missing']\n",
    "missing_features[:10]"
   ]
  },
  {
   "cell_type": "code",
   "execution_count": 64,
   "metadata": {},
   "outputs": [
    {
     "data": {
      "text/html": [
       "<div>\n",
       "<style scoped>\n",
       "    .dataframe tbody tr th:only-of-type {\n",
       "        vertical-align: middle;\n",
       "    }\n",
       "\n",
       "    .dataframe tbody tr th {\n",
       "        vertical-align: top;\n",
       "    }\n",
       "\n",
       "    .dataframe thead th {\n",
       "        text-align: right;\n",
       "    }\n",
       "</style>\n",
       "<table border=\"1\" class=\"dataframe\">\n",
       "  <thead>\n",
       "    <tr style=\"text-align: right;\">\n",
       "      <th></th>\n",
       "      <th>missing_fraction</th>\n",
       "    </tr>\n",
       "  </thead>\n",
       "  <tbody>\n",
       "    <tr>\n",
       "      <th>hospital_beds_per_thousand</th>\n",
       "      <td>0.221698</td>\n",
       "    </tr>\n",
       "    <tr>\n",
       "      <th>stringency_index</th>\n",
       "      <td>0.150943</td>\n",
       "    </tr>\n",
       "    <tr>\n",
       "      <th>aged_65_older</th>\n",
       "      <td>0.132075</td>\n",
       "    </tr>\n",
       "    <tr>\n",
       "      <th>gdp_per_capita</th>\n",
       "      <td>0.132075</td>\n",
       "    </tr>\n",
       "    <tr>\n",
       "      <th>cardiovasc_death_rate</th>\n",
       "      <td>0.122642</td>\n",
       "    </tr>\n",
       "  </tbody>\n",
       "</table>\n",
       "</div>"
      ],
      "text/plain": [
       "                            missing_fraction\n",
       "hospital_beds_per_thousand          0.221698\n",
       "stringency_index                    0.150943\n",
       "aged_65_older                       0.132075\n",
       "gdp_per_capita                      0.132075\n",
       "cardiovasc_death_rate               0.122642"
      ]
     },
     "execution_count": 64,
     "metadata": {},
     "output_type": "execute_result"
    }
   ],
   "source": [
    "fs.missing_stats.head()"
   ]
  },
  {
   "cell_type": "code",
   "execution_count": 65,
   "metadata": {},
   "outputs": [
    {
     "data": {
      "image/png": "[encoded data removed]",
      "text/plain": [
       "<Figure size 700x500 with 1 Axes>"
      ]
     },
     "metadata": {},
     "output_type": "display_data"
    }
   ],
   "source": [
    "fs.plot_missing()"
   ]
  },
  {
   "cell_type": "code",
   "execution_count": 66,
   "metadata": {},
   "outputs": [
    {
     "name": "stdout",
     "output_type": "stream",
     "text": [
      "0 features with a single unique value.\n",
      "\n"
     ]
    }
   ],
   "source": [
    "fs.identify_single_unique()"
   ]
  },
  {
   "cell_type": "code",
   "execution_count": 67,
   "metadata": {},
   "outputs": [
    {
     "name": "stdout",
     "output_type": "stream",
     "text": [
      "8 features with a correlation magnitude greater than 0.97.\n",
      "\n"
     ]
    }
   ],
   "source": [
    "fs.identify_collinear(correlation_threshold=0.975)"
   ]
  },
  {
   "cell_type": "code",
   "execution_count": 68,
   "metadata": {},
   "outputs": [
    {
     "data": {
      "text/plain": [
       "['aged_70_older',\n",
       " 'new_cases_smoothed',\n",
       " 'new_cases_smoothed_per_million',\n",
       " 'new_deaths',\n",
       " 'new_deaths_smoothed']"
      ]
     },
     "execution_count": 68,
     "metadata": {},
     "output_type": "execute_result"
    }
   ],
   "source": [
    "correlated_features = fs.ops['collinear']\n",
    "correlated_features[:5]"
   ]
  },
  {
   "cell_type": "code",
   "execution_count": 69,
   "metadata": {},
   "outputs": [
    {
     "data": {
      "image/png": "[encoded data removed]",
      "text/plain": [
       "<Figure size 1000x800 with 2 Axes>"
      ]
     },
     "metadata": {},
     "output_type": "display_data"
    }
   ],
   "source": [
    "fs.plot_collinear(plot_all=True)"
   ]
  },
  {
   "cell_type": "code",
   "execution_count": 70,
   "metadata": {},
   "outputs": [
    {
     "data": {
      "text/plain": [
       "<bound method NDFrame.head of                        drop_feature            corr_feature  corr_value\n",
       "0                     aged_70_older           aged_65_older    0.994338\n",
       "1                new_cases_smoothed               new_cases    0.999981\n",
       "2    new_cases_smoothed_per_million   new_cases_per_million    0.998599\n",
       "3                        new_deaths               new_cases    0.994139\n",
       "4                        new_deaths      new_cases_smoothed    0.994384\n",
       "5               new_deaths_smoothed               new_cases    0.994045\n",
       "6               new_deaths_smoothed      new_cases_smoothed    0.994308\n",
       "7               new_deaths_smoothed              new_deaths    0.999990\n",
       "8   new_deaths_smoothed_per_million  new_deaths_per_million    0.998992\n",
       "9                       total_cases               new_cases    0.997088\n",
       "10                      total_cases      new_cases_smoothed    0.997483\n",
       "11                      total_cases              new_deaths    0.995849\n",
       "12                      total_cases     new_deaths_smoothed    0.995986\n",
       "13                     total_deaths               new_cases    0.986950\n",
       "14                     total_deaths      new_cases_smoothed    0.987461\n",
       "15                     total_deaths              new_deaths    0.996625\n",
       "16                     total_deaths     new_deaths_smoothed    0.996895\n",
       "17                     total_deaths             total_cases    0.993483>"
      ]
     },
     "execution_count": 70,
     "metadata": {},
     "output_type": "execute_result"
    }
   ],
   "source": [
    "fs.record_collinear.head"
   ]
  },
  {
   "cell_type": "code",
   "execution_count": 72,
   "metadata": {},
   "outputs": [],
   "source": [
    "regions = ['Aruba', 'Afghanistan', 'Angola', 'Anguilla', 'Albania', 'Andorra',\n",
    "       'United Arab Emirates', 'Argentina', 'Armenia',\n",
    "       'Antigua and Barbuda', 'Australia', 'Austria', 'Azerbaijan',\n",
    "       'Burundi', 'Belgium', 'Benin', 'Bonaire Sint Eustatius and Saba',\n",
    "       'Burkina Faso', 'Bangladesh', 'Bulgaria', 'Bahrain', 'Bahamas',\n",
    "       'Bosnia and Herzegovina', 'Belarus', 'Belize', 'Bermuda',\n",
    "       'Bolivia', 'Brazil', 'Barbados', 'Brunei', 'Bhutan', 'Botswana',\n",
    "       'Central African Republic', 'Canada', 'Switzerland', 'Chile',\n",
    "       'China', \"Cote d'Ivoire\", 'Cameroon',\n",
    "       'Democratic Republic of Congo', 'Congo', 'Colombia', 'Comoros',\n",
    "       'Cape Verde', 'Costa Rica', 'Cuba', 'Curacao', 'Cayman Islands',\n",
    "       'Cyprus', 'Czech Republic', 'Germany', 'Djibouti', 'Dominica',\n",
    "       'Denmark', 'Dominican Republic', 'Algeria', 'Ecuador', 'Egypt',\n",
    "       'Eritrea', 'Western Sahara', 'Spain', 'Estonia', 'Ethiopia',\n",
    "       'Finland', 'Fiji', 'Falkland Islands', 'France', 'Faeroe Islands',\n",
    "       'Gabon', 'United Kingdom', 'Georgia', 'Guernsey', 'Ghana',\n",
    "       'Gibraltar', 'Guinea', 'Gambia', 'Guinea-Bissau',\n",
    "       'Equatorial Guinea', 'Greece', 'Grenada', 'Greenland', 'Guatemala',\n",
    "       'Guam', 'Guyana', 'Hong Kong', 'Honduras', 'Croatia', 'Haiti',\n",
    "       'Hungary', 'Indonesia', 'Isle of Man', 'India', 'Ireland', 'Iran',\n",
    "       'Iraq', 'Iceland', 'Israel', 'Italy', 'Jamaica', 'Jersey',\n",
    "       'Jordan', 'Japan', 'Kazakhstan', 'Kenya', 'Kyrgyzstan', 'Cambodia',\n",
    "       'Saint Kitts and Nevis', 'South Korea', 'Kuwait', 'Laos',\n",
    "       'Lebanon', 'Liberia', 'Libya', 'Saint Lucia', 'Liechtenstein',\n",
    "       'Sri Lanka', 'Lesotho', 'Lithuania', 'Luxembourg', 'Latvia',\n",
    "       'Morocco', 'Monaco', 'Moldova', 'Madagascar', 'Maldives', 'Mexico',\n",
    "       'Macedonia', 'Mali', 'Malta', 'Myanmar', 'Montenegro', 'Mongolia',\n",
    "       'Northern Mariana Islands', 'Mozambique', 'Mauritania',\n",
    "       'Montserrat', 'Mauritius', 'Malawi', 'Malaysia', 'Namibia',\n",
    "       'New Caledonia', 'Niger', 'Nigeria', 'Nicaragua', 'Netherlands',\n",
    "       'Norway', 'Nepal', 'New Zealand', 'Oman', 'Pakistan', 'Panama',\n",
    "       'Peru', 'Philippines', 'Papua New Guinea', 'Poland', 'Puerto Rico',\n",
    "       'Portugal', 'Paraguay', 'Palestine', 'French Polynesia', 'Qatar',\n",
    "       'Romania', 'Russia', 'Rwanda', 'Saudi Arabia', 'Sudan', 'Senegal',\n",
    "       'Singapore', 'Sierra Leone', 'El Salvador', 'San Marino',\n",
    "       'Somalia', 'Serbia', 'South Sudan', 'Sao Tome and Principe',\n",
    "       'Suriname', 'Slovakia', 'Slovenia', 'Sweden', 'Swaziland',\n",
    "       'Sint Maarten (Dutch part)', 'Seychelles', 'Syria',\n",
    "       'Turks and Caicos Islands', 'Chad', 'Togo', 'Thailand',\n",
    "       'Tajikistan', 'Timor', 'Trinidad and Tobago', 'Tunisia', 'Turkey',\n",
    "       'Taiwan', 'Tanzania', 'Uganda', 'Ukraine', 'Uruguay',\n",
    "       'United States', 'Uzbekistan', 'Vatican',\n",
    "       'Saint Vincent and the Grenadines', 'Venezuela',\n",
    "       'British Virgin Islands', 'United States Virgin Islands',\n",
    "       'Vietnam', 'Kosovo', 'Yemen', 'South Africa', 'Zambia', 'Zimbabwe',\n",
    "       'World', 'International']"
   ]
  },
  {
   "cell_type": "code",
   "execution_count": 17,
   "metadata": {},
   "outputs": [],
   "source": [
    "dict_={}\n",
    "\n",
    "for i in regions:\n",
    "    dict_[i]= df[df[\"location\"]==i].mean()"
   ]
  },
  {
   "cell_type": "code",
   "execution_count": 18,
   "metadata": {},
   "outputs": [],
   "source": [
    "df = pd.DataFrame(dict_)"
   ]
  },
  {
   "cell_type": "code",
   "execution_count": 28,
   "metadata": {},
   "outputs": [
    {
     "data": {
      "text/html": [
       "<div>\n",
       "<style scoped>\n",
       "    .dataframe tbody tr th:only-of-type {\n",
       "        vertical-align: middle;\n",
       "    }\n",
       "\n",
       "    .dataframe tbody tr th {\n",
       "        vertical-align: top;\n",
       "    }\n",
       "\n",
       "    .dataframe thead th {\n",
       "        text-align: right;\n",
       "    }\n",
       "</style>\n",
       "<table border=\"1\" class=\"dataframe\">\n",
       "  <thead>\n",
       "    <tr style=\"text-align: right;\">\n",
       "      <th></th>\n",
       "      <th>aged_65_older</th>\n",
       "      <th>aged_70_older</th>\n",
       "      <th>cardiovasc_death_rate</th>\n",
       "      <th>diabetes_prevalence</th>\n",
       "      <th>gdp_per_capita</th>\n",
       "      <th>hospital_beds_per_thousand</th>\n",
       "      <th>life_expectancy</th>\n",
       "      <th>median_age</th>\n",
       "      <th>new_cases</th>\n",
       "      <th>new_cases_per_million</th>\n",
       "      <th>...</th>\n",
       "      <th>new_deaths_per_million</th>\n",
       "      <th>new_deaths_smoothed</th>\n",
       "      <th>new_deaths_smoothed_per_million</th>\n",
       "      <th>population</th>\n",
       "      <th>population_density</th>\n",
       "      <th>stringency_index</th>\n",
       "      <th>total_cases</th>\n",
       "      <th>total_cases_per_million</th>\n",
       "      <th>total_deaths</th>\n",
       "      <th>total_deaths_per_million</th>\n",
       "    </tr>\n",
       "  </thead>\n",
       "  <tbody>\n",
       "    <tr>\n",
       "      <th>Aruba</th>\n",
       "      <td>13.085</td>\n",
       "      <td>7.452</td>\n",
       "      <td>NaN</td>\n",
       "      <td>11.62</td>\n",
       "      <td>35973.781</td>\n",
       "      <td>NaN</td>\n",
       "      <td>76.29</td>\n",
       "      <td>41.2</td>\n",
       "      <td>13.807229</td>\n",
       "      <td>129.322325</td>\n",
       "      <td>...</td>\n",
       "      <td>0.733488</td>\n",
       "      <td>0.062229</td>\n",
       "      <td>0.582424</td>\n",
       "      <td>106766.0</td>\n",
       "      <td>584.800</td>\n",
       "      <td>53.176748</td>\n",
       "      <td>312.759036</td>\n",
       "      <td>2929.387970</td>\n",
       "      <td>2.987952</td>\n",
       "      <td>27.986133</td>\n",
       "    </tr>\n",
       "    <tr>\n",
       "      <th>Afghanistan</th>\n",
       "      <td>2.581</td>\n",
       "      <td>1.337</td>\n",
       "      <td>597.029</td>\n",
       "      <td>9.59</td>\n",
       "      <td>1803.987</td>\n",
       "      <td>0.50</td>\n",
       "      <td>64.83</td>\n",
       "      <td>18.6</td>\n",
       "      <td>160.200837</td>\n",
       "      <td>4.115289</td>\n",
       "      <td>...</td>\n",
       "      <td>0.151552</td>\n",
       "      <td>5.783091</td>\n",
       "      <td>0.148514</td>\n",
       "      <td>38928341.0</td>\n",
       "      <td>54.422</td>\n",
       "      <td>53.839328</td>\n",
       "      <td>14065.949791</td>\n",
       "      <td>361.329335</td>\n",
       "      <td>420.945607</td>\n",
       "      <td>10.813347</td>\n",
       "    </tr>\n",
       "    <tr>\n",
       "      <th>Angola</th>\n",
       "      <td>2.405</td>\n",
       "      <td>1.362</td>\n",
       "      <td>276.045</td>\n",
       "      <td>3.94</td>\n",
       "      <td>5819.495</td>\n",
       "      <td>NaN</td>\n",
       "      <td>61.15</td>\n",
       "      <td>16.8</td>\n",
       "      <td>16.628743</td>\n",
       "      <td>0.505964</td>\n",
       "      <td>...</td>\n",
       "      <td>0.020341</td>\n",
       "      <td>0.670845</td>\n",
       "      <td>0.020416</td>\n",
       "      <td>32866268.0</td>\n",
       "      <td>23.890</td>\n",
       "      <td>78.040307</td>\n",
       "      <td>554.209581</td>\n",
       "      <td>16.862551</td>\n",
       "      <td>24.886228</td>\n",
       "      <td>0.757251</td>\n",
       "    </tr>\n",
       "    <tr>\n",
       "      <th>Anguilla</th>\n",
       "      <td>NaN</td>\n",
       "      <td>NaN</td>\n",
       "      <td>NaN</td>\n",
       "      <td>NaN</td>\n",
       "      <td>NaN</td>\n",
       "      <td>NaN</td>\n",
       "      <td>81.88</td>\n",
       "      <td>NaN</td>\n",
       "      <td>0.018519</td>\n",
       "      <td>1.234407</td>\n",
       "      <td>...</td>\n",
       "      <td>0.000000</td>\n",
       "      <td>0.000000</td>\n",
       "      <td>0.000000</td>\n",
       "      <td>15002.0</td>\n",
       "      <td>NaN</td>\n",
       "      <td>44.543019</td>\n",
       "      <td>2.956790</td>\n",
       "      <td>197.092759</td>\n",
       "      <td>0.000000</td>\n",
       "      <td>0.000000</td>\n",
       "    </tr>\n",
       "    <tr>\n",
       "      <th>Albania</th>\n",
       "      <td>13.188</td>\n",
       "      <td>8.643</td>\n",
       "      <td>304.195</td>\n",
       "      <td>10.08</td>\n",
       "      <td>11803.431</td>\n",
       "      <td>2.89</td>\n",
       "      <td>78.57</td>\n",
       "      <td>38.0</td>\n",
       "      <td>54.688889</td>\n",
       "      <td>19.003683</td>\n",
       "      <td>...</td>\n",
       "      <td>0.580944</td>\n",
       "      <td>1.637172</td>\n",
       "      <td>0.568902</td>\n",
       "      <td>2877800.0</td>\n",
       "      <td>104.871</td>\n",
       "      <td>72.150174</td>\n",
       "      <td>2648.361111</td>\n",
       "      <td>920.272822</td>\n",
       "      <td>78.627778</td>\n",
       "      <td>27.322150</td>\n",
       "    </tr>\n",
       "  </tbody>\n",
       "</table>\n",
       "<p>5 rows × 23 columns</p>\n",
       "</div>"
      ],
      "text/plain": [
       "             aged_65_older  aged_70_older  cardiovasc_death_rate  \\\n",
       "Aruba               13.085          7.452                    NaN   \n",
       "Afghanistan          2.581          1.337                597.029   \n",
       "Angola               2.405          1.362                276.045   \n",
       "Anguilla               NaN            NaN                    NaN   \n",
       "Albania             13.188          8.643                304.195   \n",
       "\n",
       "             diabetes_prevalence  gdp_per_capita  hospital_beds_per_thousand  \\\n",
       "Aruba                      11.62       35973.781                         NaN   \n",
       "Afghanistan                 9.59        1803.987                        0.50   \n",
       "Angola                      3.94        5819.495                         NaN   \n",
       "Anguilla                     NaN             NaN                         NaN   \n",
       "Albania                    10.08       11803.431                        2.89   \n",
       "\n",
       "             life_expectancy  median_age   new_cases  new_cases_per_million  \\\n",
       "Aruba                  76.29        41.2   13.807229             129.322325   \n",
       "Afghanistan            64.83        18.6  160.200837               4.115289   \n",
       "Angola                 61.15        16.8   16.628743               0.505964   \n",
       "Anguilla               81.88         NaN    0.018519               1.234407   \n",
       "Albania                78.57        38.0   54.688889              19.003683   \n",
       "\n",
       "             ...  new_deaths_per_million  new_deaths_smoothed  \\\n",
       "Aruba        ...                0.733488             0.062229   \n",
       "Afghanistan  ...                0.151552             5.783091   \n",
       "Angola       ...                0.020341             0.670845   \n",
       "Anguilla     ...                0.000000             0.000000   \n",
       "Albania      ...                0.580944             1.637172   \n",
       "\n",
       "             new_deaths_smoothed_per_million  population  population_density  \\\n",
       "Aruba                               0.582424    106766.0             584.800   \n",
       "Afghanistan                         0.148514  38928341.0              54.422   \n",
       "Angola                              0.020416  32866268.0              23.890   \n",
       "Anguilla                            0.000000     15002.0                 NaN   \n",
       "Albania                             0.568902   2877800.0             104.871   \n",
       "\n",
       "             stringency_index   total_cases  total_cases_per_million  \\\n",
       "Aruba               53.176748    312.759036              2929.387970   \n",
       "Afghanistan         53.839328  14065.949791               361.329335   \n",
       "Angola              78.040307    554.209581                16.862551   \n",
       "Anguilla            44.543019      2.956790               197.092759   \n",
       "Albania             72.150174   2648.361111               920.272822   \n",
       "\n",
       "             total_deaths  total_deaths_per_million  \n",
       "Aruba            2.987952                 27.986133  \n",
       "Afghanistan    420.945607                 10.813347  \n",
       "Angola          24.886228                  0.757251  \n",
       "Anguilla         0.000000                  0.000000  \n",
       "Albania         78.627778                 27.322150  \n",
       "\n",
       "[5 rows x 23 columns]"
      ]
     },
     "execution_count": 28,
     "metadata": {},
     "output_type": "execute_result"
    }
   ],
   "source": [
    "df.head()"
   ]
  },
  {
   "cell_type": "code",
   "execution_count": 20,
   "metadata": {},
   "outputs": [],
   "source": [
    "df = df.T"
   ]
  },
  {
   "cell_type": "code",
   "execution_count": 21,
   "metadata": {},
   "outputs": [
    {
     "data": {
      "image/png": "[encoded data removed]",
      "text/plain": [
       "<Figure size 1152x576 with 1 Axes>"
      ]
     },
     "metadata": {
      "needs_background": "light"
     },
     "output_type": "display_data"
    }
   ],
   "source": [
    "null_counts = df.isnull().sum()/len(df)\n",
    "plt.figure(figsize=(16,8))\n",
    "plt.xticks(np.arange(len(null_counts)),null_counts.index,rotation='vertical')\n",
    "plt.ylabel('fraction of rows with missing data')\n",
    "vis1= sns.barplot(np.arange(len(null_counts)),null_counts,palette='cool')\n",
    "\n",
    "\n",
    "for p in vis1.patches:\n",
    "             vis1.annotate(\"%.2f\" % p.get_height(), (p.get_x() + p.get_width() / 2, p.get_height()),\n",
    "                 ha='left', va='top', fontsize=14, color='blue', xytext=(0, 20),\n",
    "                 textcoords='offset points')\n",
    "        #This annotation provides the fraction of missing data.\n",
    "        \n",
    "plt.show()\n",
    "\n"
   ]
  },
  {
   "cell_type": "code",
   "execution_count": 22,
   "metadata": {},
   "outputs": [],
   "source": [
    "tag = null_counts[null_counts>0.33].to_dict()"
   ]
  },
  {
   "cell_type": "code",
   "execution_count": 23,
   "metadata": {},
   "outputs": [
    {
     "data": {
      "text/plain": [
       "dict_keys(['continent', 'female_smokers', 'iso_code', 'male_smokers'])"
      ]
     },
     "execution_count": 23,
     "metadata": {},
     "output_type": "execute_result"
    }
   ],
   "source": [
    "tag.keys()"
   ]
  },
  {
   "cell_type": "code",
   "execution_count": 24,
   "metadata": {},
   "outputs": [],
   "source": [
    "columns = ['continent', 'female_smokers', 'iso_code', 'male_smokers']"
   ]
  },
  {
   "cell_type": "code",
   "execution_count": 26,
   "metadata": {},
   "outputs": [],
   "source": [
    "df.drop(columns = columns,inplace = True)"
   ]
  },
  {
   "cell_type": "code",
   "execution_count": 27,
   "metadata": {},
   "outputs": [
    {
     "data": {
      "image/png": "[encoded data removed]",
      "text/plain": [
       "<Figure size 1152x576 with 1 Axes>"
      ]
     },
     "metadata": {
      "needs_background": "light"
     },
     "output_type": "display_data"
    }
   ],
   "source": [
    "null_counts = df.isnull().sum()/len(df)\n",
    "plt.figure(figsize=(16,8))\n",
    "plt.xticks(np.arange(len(null_counts)),null_counts.index,rotation='vertical')\n",
    "plt.ylabel('fraction of rows with missing data')\n",
    "vis1= sns.barplot(np.arange(len(null_counts)),null_counts,palette='cool')\n",
    "\n",
    "\n",
    "for p in vis1.patches:\n",
    "             vis1.annotate(\"%.2f\" % p.get_height(), (p.get_x() + p.get_width() / 2, p.get_height()),\n",
    "                 ha='left', va='top', fontsize=14, color='blue', xytext=(0, 20),\n",
    "                 textcoords='offset points')\n",
    "        #This annotation provides the fraction of missing data.\n",
    "        \n",
    "plt.show()\n",
    "\n"
   ]
  },
  {
   "cell_type": "code",
   "execution_count": 33,
   "metadata": {},
   "outputs": [
    {
     "data": {
      "text/plain": [
       "Aruba            False\n",
       "Afghanistan      False\n",
       "Angola           False\n",
       "Anguilla         False\n",
       "Albania          False\n",
       "                 ...  \n",
       "South Africa     False\n",
       "Zambia           False\n",
       "Zimbabwe         False\n",
       "World            False\n",
       "International    False\n",
       "Name: total_cases, Length: 212, dtype: bool"
      ]
     },
     "execution_count": 33,
     "metadata": {},
     "output_type": "execute_result"
    }
   ],
   "source": [
    "df[\"total_cases\"]"
   ]
  },
  {
   "cell_type": "code",
   "execution_count": 60,
   "metadata": {},
   "outputs": [],
   "source": [
    "train_features, valid_features, train_labels, valid_labels = train_test_split(df, labels, test_size = 0.15)"
   ]
  },
  {
   "cell_type": "code",
   "execution_count": 55,
   "metadata": {},
   "outputs": [],
   "source": [
    "target = df.drop(columns  = ['total_cases'])"
   ]
  },
  {
   "cell_type": "code",
   "execution_count": 54,
   "metadata": {},
   "outputs": [],
   "source": [
    "labels = df['total_cases']"
   ]
  },
  {
   "cell_type": "code",
   "execution_count": 59,
   "metadata": {},
   "outputs": [],
   "source": [
    "from sklearn.model_selection import train_test_split"
   ]
  },
  {
   "cell_type": "code",
   "execution_count": 82,
   "metadata": {},
   "outputs": [
    {
     "name": "stdout",
     "output_type": "stream",
     "text": [
      "Training until validation scores don't improve for 100 rounds.\n",
      "Early stopping, best iteration is:\n",
      "[1]\tvalid_0's rmse: 1.17224e+06\n"
     ]
    },
    {
     "data": {
      "text/plain": [
       "LGBMRegressor(boosting_type='gbdt', class_weight=None, colsample_bytree=1.0,\n",
       "              learning_rate=0.05, max_depth=-1, min_child_samples=20,\n",
       "              min_child_weight=0.001, min_split_gain=0.0, n_estimators=1000,\n",
       "              n_jobs=-1, num_leaves=31, objective=None, random_state=None,\n",
       "              reg_alpha=0.0, reg_lambda=0.0, silent=True, subsample=1.0,\n",
       "              subsample_for_bin=200000, subsample_freq=1, verbose=-1)"
      ]
     },
     "execution_count": 82,
     "metadata": {},
     "output_type": "execute_result"
    }
   ],
   "source": [
    "# Train the model with early stopping\n",
    "model.fit(train_features, train_labels, eval_metric = \"l2_root\", eval_set = [(valid_features, valid_labels)],\n",
    "                          early_stopping_rounds = 100, verbose = -1)"
   ]
  },
  {
   "cell_type": "code",
   "execution_count": 78,
   "metadata": {},
   "outputs": [],
   "source": [
    "                model = lgb.LGBMRegressor(n_estimators=1000, learning_rate = 0.05, verbose = -1)\n"
   ]
  },
  {
   "cell_type": "code",
   "execution_count": 76,
   "metadata": {},
   "outputs": [],
   "source": [
    "import lightgbm as lgb\n"
   ]
  },
  {
   "cell_type": "code",
   "execution_count": null,
   "metadata": {},
   "outputs": [],
   "source": []
  }
 ],
 "metadata": {
  "kernelspec": {
   "display_name": "Python 3",
   "language": "python",
   "name": "python3"
  },
  "language_info": {
   "codemirror_mode": {
    "name": "ipython",
    "version": 3
   },
   "file_extension": ".py",
   "mimetype": "text/x-python",
   "name": "python",
   "nbconvert_exporter": "python",
   "pygments_lexer": "ipython3",
   "version": "3.6.10"
  }
 },
 "nbformat": 4,
 "nbformat_minor": 4
}
